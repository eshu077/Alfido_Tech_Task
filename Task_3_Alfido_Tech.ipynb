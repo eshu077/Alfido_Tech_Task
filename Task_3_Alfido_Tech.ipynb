{
  "nbformat": 4,
  "nbformat_minor": 0,
  "metadata": {
    "colab": {
      "provenance": [],
      "authorship_tag": "ABX9TyNIVg1C7bIAbmA9fi/5Wtc2",
      "include_colab_link": true
    },
    "kernelspec": {
      "name": "python3",
      "display_name": "Python 3"
    },
    "language_info": {
      "name": "python"
    }
  },
  "cells": [
    {
      "cell_type": "markdown",
      "metadata": {
        "id": "view-in-github",
        "colab_type": "text"
      },
      "source": [
        "<a href=\"https://colab.research.google.com/github/eshu077/ALFIDO_TECH_TASKS/blob/main/Task_3_Alfido_Tech.ipynb\" target=\"_parent\"><img src=\"https://colab.research.google.com/assets/colab-badge.svg\" alt=\"Open In Colab\"/></a>"
      ]
    },
    {
      "cell_type": "code",
      "source": [
        "def celsius_to_fahrenheit(celsius):\n",
        "  \"\"\"Converts Celsius to Fahrenheit.\"\"\"\n",
        "  return (celsius * 9/5) + 32\n",
        "\n",
        "def fahrenheit_to_celsius(fahrenheit):\n",
        "  \"\"\"Converts Fahrenheit to Celsius.\"\"\"\n",
        "  return (fahrenheit - 32) * 5/9\n",
        "\n",
        "def celsius_to_kelvin(celsius):\n",
        "  \"\"\"Converts Celsius to Kelvin.\"\"\"\n",
        "  return celsius + 273.15\n",
        "\n",
        "def kelvin_to_celsius(kelvin):\n",
        "  \"\"\"Converts Kelvin to Celsius.\"\"\"\n",
        "  return kelvin - 273.15\n",
        "\n",
        "def fahrenheit_to_kelvin(fahrenheit):\n",
        "  \"\"\"Converts Fahrenheit to Kelvin.\"\"\"\n",
        "  celsius = fahrenheit_to_celsius(fahrenheit)\n",
        "  return celsius_to_kelvin(celsius)\n",
        "\n",
        "def kelvin_to_fahrenheit(kelvin):\n",
        "  \"\"\"Converts Kelvin to Fahrenheit.\"\"\"\n",
        "  celsius = kelvin_to_celsius(kelvin)\n",
        "  return celsius_to_fahrenheit(celsius)\n",
        "\n",
        "# Example Usage:\n",
        "celsius_temp = 25\n",
        "fahrenheit_temp = celsius_to_fahrenheit(celsius_temp)\n",
        "print(f\"{celsius_temp}°C is {fahrenheit_temp}°F\")\n",
        "\n",
        "fahrenheit_temp = 77\n",
        "celsius_temp = fahrenheit_to_celsius(fahrenheit_temp)\n",
        "print(f\"{fahrenheit_temp}°F is {celsius_temp}°C\")\n",
        "\n",
        "celsius_temp = 25\n",
        "kelvin_temp = celsius_to_kelvin(celsius_temp)\n",
        "print(f\"{celsius_temp}°C is {kelvin_temp}K\")\n",
        "\n",
        "kelvin_temp = 298.15\n",
        "celsius_temp = kelvin_to_celsius(kelvin_temp)\n",
        "print(f\"{kelvin_temp}K is {celsius_temp}°C\")\n",
        "\n",
        "fahrenheit_temp = 77\n",
        "kelvin_temp = fahrenheit_to_kelvin(fahrenheit_temp)\n",
        "print(f\"{fahrenheit_temp}°F is {kelvin_temp}K\")\n",
        "\n",
        "kelvin_temp = 298.15\n",
        "fahrenheit_temp = kelvin_to_fahrenheit(kelvin_temp)\n",
        "print(f\"{kelvin_temp}K is {fahrenheit_temp}°F\")"
      ],
      "metadata": {
        "colab": {
          "base_uri": "https://localhost:8080/"
        },
        "id": "bEUDizeWNeqE",
        "outputId": "c0a62e56-5346-416f-eef3-fafa3b2e5044"
      },
      "execution_count": null,
      "outputs": [
        {
          "output_type": "stream",
          "name": "stdout",
          "text": [
            "25°C is 77.0°F\n",
            "77°F is 25.0°C\n",
            "25°C is 298.15K\n",
            "298.15K is 25.0°C\n",
            "77°F is 298.15K\n",
            "298.15K is 77.0°F\n"
          ]
        }
      ]
    },
    {
      "cell_type": "code",
      "source": [],
      "metadata": {
        "id": "kBI6bfL_zYOY"
      },
      "execution_count": null,
      "outputs": []
    }
  ]
}